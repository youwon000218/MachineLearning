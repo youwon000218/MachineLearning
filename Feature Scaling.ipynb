{
 "cells": [
  {
   "cell_type": "markdown",
   "metadata": {},
   "source": [
    " # min-max normalization"
   ]
  },
  {
   "cell_type": "code",
   "execution_count": 1,
   "metadata": {},
   "outputs": [],
   "source": [
    "import pandas as pd\n",
    "import numpy as np\n",
    "\n",
    "from sklearn import preprocessing"
   ]
  },
  {
   "cell_type": "code",
   "execution_count": 2,
   "metadata": {},
   "outputs": [],
   "source": [
    "nba_player_of_the_week_df = pd.read_csv('NBA_player_of_the_week.csv')"
   ]
  },
  {
   "cell_type": "code",
   "execution_count": 3,
   "metadata": {},
   "outputs": [
    {
     "data": {
      "text/html": [
       "<div>\n",
       "<style scoped>\n",
       "    .dataframe tbody tr th:only-of-type {\n",
       "        vertical-align: middle;\n",
       "    }\n",
       "\n",
       "    .dataframe tbody tr th {\n",
       "        vertical-align: top;\n",
       "    }\n",
       "\n",
       "    .dataframe thead th {\n",
       "        text-align: right;\n",
       "    }\n",
       "</style>\n",
       "<table border=\"1\" class=\"dataframe\">\n",
       "  <thead>\n",
       "    <tr style=\"text-align: right;\">\n",
       "      <th></th>\n",
       "      <th>Player</th>\n",
       "      <th>Team</th>\n",
       "      <th>Conference</th>\n",
       "      <th>Date</th>\n",
       "      <th>Position</th>\n",
       "      <th>Height</th>\n",
       "      <th>Weight</th>\n",
       "      <th>Age</th>\n",
       "      <th>Draft Year</th>\n",
       "      <th>Seasons in league</th>\n",
       "      <th>Season</th>\n",
       "      <th>Season short</th>\n",
       "      <th>Pre-draft Team</th>\n",
       "      <th>Real_value</th>\n",
       "      <th>Height CM</th>\n",
       "      <th>Weight KG</th>\n",
       "      <th>Last Season</th>\n",
       "    </tr>\n",
       "  </thead>\n",
       "  <tbody>\n",
       "    <tr>\n",
       "      <th>0</th>\n",
       "      <td>Jayson Tatum</td>\n",
       "      <td>Boston Celtics</td>\n",
       "      <td>East</td>\n",
       "      <td>Feb 10, 2020</td>\n",
       "      <td>SF</td>\n",
       "      <td>6'8</td>\n",
       "      <td>208</td>\n",
       "      <td>21</td>\n",
       "      <td>2017</td>\n",
       "      <td>2</td>\n",
       "      <td>2019-2020</td>\n",
       "      <td>2020</td>\n",
       "      <td>Duke</td>\n",
       "      <td>0.5</td>\n",
       "      <td>203</td>\n",
       "      <td>94</td>\n",
       "      <td>1</td>\n",
       "    </tr>\n",
       "    <tr>\n",
       "      <th>1</th>\n",
       "      <td>Nikola Jokic</td>\n",
       "      <td>Denver Nuggets</td>\n",
       "      <td>West</td>\n",
       "      <td>Feb 10, 2020</td>\n",
       "      <td>C</td>\n",
       "      <td>7'0</td>\n",
       "      <td>250</td>\n",
       "      <td>25</td>\n",
       "      <td>2014</td>\n",
       "      <td>4</td>\n",
       "      <td>2019-2020</td>\n",
       "      <td>2020</td>\n",
       "      <td>KK Mega Bemax (Serbia)</td>\n",
       "      <td>0.5</td>\n",
       "      <td>213</td>\n",
       "      <td>113</td>\n",
       "      <td>1</td>\n",
       "    </tr>\n",
       "    <tr>\n",
       "      <th>2</th>\n",
       "      <td>Jaylen Brown</td>\n",
       "      <td>Boston Celtics</td>\n",
       "      <td>East</td>\n",
       "      <td>Feb 3, 2020</td>\n",
       "      <td>SF</td>\n",
       "      <td>6'7</td>\n",
       "      <td>220</td>\n",
       "      <td>23</td>\n",
       "      <td>2016</td>\n",
       "      <td>3</td>\n",
       "      <td>2019-2020</td>\n",
       "      <td>2020</td>\n",
       "      <td>California</td>\n",
       "      <td>0.5</td>\n",
       "      <td>201</td>\n",
       "      <td>99</td>\n",
       "      <td>1</td>\n",
       "    </tr>\n",
       "    <tr>\n",
       "      <th>3</th>\n",
       "      <td>Damian Lillard</td>\n",
       "      <td>Portland Trail Blazers</td>\n",
       "      <td>West</td>\n",
       "      <td>Feb 3, 2020</td>\n",
       "      <td>G</td>\n",
       "      <td>6'3</td>\n",
       "      <td>195</td>\n",
       "      <td>29</td>\n",
       "      <td>2012</td>\n",
       "      <td>7</td>\n",
       "      <td>2019-2020</td>\n",
       "      <td>2020</td>\n",
       "      <td>Weber State</td>\n",
       "      <td>0.5</td>\n",
       "      <td>190</td>\n",
       "      <td>88</td>\n",
       "      <td>1</td>\n",
       "    </tr>\n",
       "    <tr>\n",
       "      <th>4</th>\n",
       "      <td>Pascal Siakam</td>\n",
       "      <td>Toronto Raptors</td>\n",
       "      <td>East</td>\n",
       "      <td>Jan 27, 2020</td>\n",
       "      <td>F</td>\n",
       "      <td>6'9</td>\n",
       "      <td>230</td>\n",
       "      <td>25</td>\n",
       "      <td>2016</td>\n",
       "      <td>3</td>\n",
       "      <td>2019-2020</td>\n",
       "      <td>2020</td>\n",
       "      <td>New Mexico State</td>\n",
       "      <td>0.5</td>\n",
       "      <td>206</td>\n",
       "      <td>104</td>\n",
       "      <td>1</td>\n",
       "    </tr>\n",
       "  </tbody>\n",
       "</table>\n",
       "</div>"
      ],
      "text/plain": [
       "           Player                    Team Conference          Date Position  \\\n",
       "0    Jayson Tatum          Boston Celtics       East  Feb 10, 2020       SF   \n",
       "1    Nikola Jokic          Denver Nuggets       West  Feb 10, 2020        C   \n",
       "2    Jaylen Brown          Boston Celtics       East   Feb 3, 2020       SF   \n",
       "3  Damian Lillard  Portland Trail Blazers       West   Feb 3, 2020        G   \n",
       "4   Pascal Siakam         Toronto Raptors       East  Jan 27, 2020        F   \n",
       "\n",
       "  Height  Weight  Age  Draft Year  Seasons in league     Season  Season short  \\\n",
       "0    6'8     208   21        2017                  2  2019-2020          2020   \n",
       "1    7'0     250   25        2014                  4  2019-2020          2020   \n",
       "2    6'7     220   23        2016                  3  2019-2020          2020   \n",
       "3    6'3     195   29        2012                  7  2019-2020          2020   \n",
       "4    6'9     230   25        2016                  3  2019-2020          2020   \n",
       "\n",
       "           Pre-draft Team  Real_value  Height CM  Weight KG  Last Season  \n",
       "0                    Duke         0.5        203         94            1  \n",
       "1  KK Mega Bemax (Serbia)         0.5        213        113            1  \n",
       "2              California         0.5        201         99            1  \n",
       "3             Weber State         0.5        190         88            1  \n",
       "4        New Mexico State         0.5        206        104            1  "
      ]
     },
     "execution_count": 3,
     "metadata": {},
     "output_type": "execute_result"
    }
   ],
   "source": [
    "nba_player_of_the_week_df.head()"
   ]
  },
  {
   "cell_type": "code",
   "execution_count": 4,
   "metadata": {},
   "outputs": [
    {
     "data": {
      "text/html": [
       "<div>\n",
       "<style scoped>\n",
       "    .dataframe tbody tr th:only-of-type {\n",
       "        vertical-align: middle;\n",
       "    }\n",
       "\n",
       "    .dataframe tbody tr th {\n",
       "        vertical-align: top;\n",
       "    }\n",
       "\n",
       "    .dataframe thead th {\n",
       "        text-align: right;\n",
       "    }\n",
       "</style>\n",
       "<table border=\"1\" class=\"dataframe\">\n",
       "  <thead>\n",
       "    <tr style=\"text-align: right;\">\n",
       "      <th></th>\n",
       "      <th>Weight</th>\n",
       "      <th>Age</th>\n",
       "      <th>Draft Year</th>\n",
       "      <th>Seasons in league</th>\n",
       "      <th>Season short</th>\n",
       "      <th>Real_value</th>\n",
       "      <th>Height CM</th>\n",
       "      <th>Weight KG</th>\n",
       "      <th>Last Season</th>\n",
       "    </tr>\n",
       "  </thead>\n",
       "  <tbody>\n",
       "    <tr>\n",
       "      <th>count</th>\n",
       "      <td>1340.000000</td>\n",
       "      <td>1340.000000</td>\n",
       "      <td>1340.000000</td>\n",
       "      <td>1340.000000</td>\n",
       "      <td>1340.000000</td>\n",
       "      <td>1340.000000</td>\n",
       "      <td>1340.000000</td>\n",
       "      <td>1340.000000</td>\n",
       "      <td>1340.000000</td>\n",
       "    </tr>\n",
       "    <tr>\n",
       "      <th>mean</th>\n",
       "      <td>224.567164</td>\n",
       "      <td>26.738060</td>\n",
       "      <td>1996.287313</td>\n",
       "      <td>5.740299</td>\n",
       "      <td>2003.156716</td>\n",
       "      <td>0.686940</td>\n",
       "      <td>201.071642</td>\n",
       "      <td>101.384328</td>\n",
       "      <td>0.023881</td>\n",
       "    </tr>\n",
       "    <tr>\n",
       "      <th>std</th>\n",
       "      <td>30.798885</td>\n",
       "      <td>3.400683</td>\n",
       "      <td>11.253558</td>\n",
       "      <td>3.293421</td>\n",
       "      <td>11.470164</td>\n",
       "      <td>0.242007</td>\n",
       "      <td>9.367970</td>\n",
       "      <td>14.011226</td>\n",
       "      <td>0.152734</td>\n",
       "    </tr>\n",
       "    <tr>\n",
       "      <th>min</th>\n",
       "      <td>150.000000</td>\n",
       "      <td>19.000000</td>\n",
       "      <td>1965.000000</td>\n",
       "      <td>0.000000</td>\n",
       "      <td>1980.000000</td>\n",
       "      <td>0.500000</td>\n",
       "      <td>175.000000</td>\n",
       "      <td>68.000000</td>\n",
       "      <td>0.000000</td>\n",
       "    </tr>\n",
       "    <tr>\n",
       "      <th>25%</th>\n",
       "      <td>205.000000</td>\n",
       "      <td>24.000000</td>\n",
       "      <td>1987.000000</td>\n",
       "      <td>3.000000</td>\n",
       "      <td>1994.000000</td>\n",
       "      <td>0.500000</td>\n",
       "      <td>193.000000</td>\n",
       "      <td>93.000000</td>\n",
       "      <td>0.000000</td>\n",
       "    </tr>\n",
       "    <tr>\n",
       "      <th>50%</th>\n",
       "      <td>220.000000</td>\n",
       "      <td>26.000000</td>\n",
       "      <td>1998.000000</td>\n",
       "      <td>5.000000</td>\n",
       "      <td>2005.000000</td>\n",
       "      <td>0.500000</td>\n",
       "      <td>201.000000</td>\n",
       "      <td>99.000000</td>\n",
       "      <td>0.000000</td>\n",
       "    </tr>\n",
       "    <tr>\n",
       "      <th>75%</th>\n",
       "      <td>250.000000</td>\n",
       "      <td>29.000000</td>\n",
       "      <td>2005.000000</td>\n",
       "      <td>8.000000</td>\n",
       "      <td>2013.000000</td>\n",
       "      <td>1.000000</td>\n",
       "      <td>208.000000</td>\n",
       "      <td>113.000000</td>\n",
       "      <td>0.000000</td>\n",
       "    </tr>\n",
       "    <tr>\n",
       "      <th>max</th>\n",
       "      <td>325.000000</td>\n",
       "      <td>40.000000</td>\n",
       "      <td>2018.000000</td>\n",
       "      <td>17.000000</td>\n",
       "      <td>2020.000000</td>\n",
       "      <td>1.000000</td>\n",
       "      <td>229.000000</td>\n",
       "      <td>147.000000</td>\n",
       "      <td>1.000000</td>\n",
       "    </tr>\n",
       "  </tbody>\n",
       "</table>\n",
       "</div>"
      ],
      "text/plain": [
       "            Weight          Age   Draft Year  Seasons in league  Season short  \\\n",
       "count  1340.000000  1340.000000  1340.000000        1340.000000   1340.000000   \n",
       "mean    224.567164    26.738060  1996.287313           5.740299   2003.156716   \n",
       "std      30.798885     3.400683    11.253558           3.293421     11.470164   \n",
       "min     150.000000    19.000000  1965.000000           0.000000   1980.000000   \n",
       "25%     205.000000    24.000000  1987.000000           3.000000   1994.000000   \n",
       "50%     220.000000    26.000000  1998.000000           5.000000   2005.000000   \n",
       "75%     250.000000    29.000000  2005.000000           8.000000   2013.000000   \n",
       "max     325.000000    40.000000  2018.000000          17.000000   2020.000000   \n",
       "\n",
       "        Real_value    Height CM    Weight KG  Last Season  \n",
       "count  1340.000000  1340.000000  1340.000000  1340.000000  \n",
       "mean      0.686940   201.071642   101.384328     0.023881  \n",
       "std       0.242007     9.367970    14.011226     0.152734  \n",
       "min       0.500000   175.000000    68.000000     0.000000  \n",
       "25%       0.500000   193.000000    93.000000     0.000000  \n",
       "50%       0.500000   201.000000    99.000000     0.000000  \n",
       "75%       1.000000   208.000000   113.000000     0.000000  \n",
       "max       1.000000   229.000000   147.000000     1.000000  "
      ]
     },
     "execution_count": 4,
     "metadata": {},
     "output_type": "execute_result"
    }
   ],
   "source": [
    "nba_player_of_the_week_df.describe()"
   ]
  },
  {
   "cell_type": "code",
   "execution_count": 5,
   "metadata": {},
   "outputs": [
    {
     "data": {
      "text/html": [
       "<div>\n",
       "<style scoped>\n",
       "    .dataframe tbody tr th:only-of-type {\n",
       "        vertical-align: middle;\n",
       "    }\n",
       "\n",
       "    .dataframe tbody tr th {\n",
       "        vertical-align: top;\n",
       "    }\n",
       "\n",
       "    .dataframe thead th {\n",
       "        text-align: right;\n",
       "    }\n",
       "</style>\n",
       "<table border=\"1\" class=\"dataframe\">\n",
       "  <thead>\n",
       "    <tr style=\"text-align: right;\">\n",
       "      <th></th>\n",
       "      <th>Height CM</th>\n",
       "      <th>Weight KG</th>\n",
       "      <th>Age</th>\n",
       "    </tr>\n",
       "  </thead>\n",
       "  <tbody>\n",
       "    <tr>\n",
       "      <th>0</th>\n",
       "      <td>203</td>\n",
       "      <td>94</td>\n",
       "      <td>21</td>\n",
       "    </tr>\n",
       "    <tr>\n",
       "      <th>1</th>\n",
       "      <td>213</td>\n",
       "      <td>113</td>\n",
       "      <td>25</td>\n",
       "    </tr>\n",
       "    <tr>\n",
       "      <th>2</th>\n",
       "      <td>201</td>\n",
       "      <td>99</td>\n",
       "      <td>23</td>\n",
       "    </tr>\n",
       "    <tr>\n",
       "      <th>3</th>\n",
       "      <td>190</td>\n",
       "      <td>88</td>\n",
       "      <td>29</td>\n",
       "    </tr>\n",
       "    <tr>\n",
       "      <th>4</th>\n",
       "      <td>206</td>\n",
       "      <td>104</td>\n",
       "      <td>25</td>\n",
       "    </tr>\n",
       "  </tbody>\n",
       "</table>\n",
       "</div>"
      ],
      "text/plain": [
       "   Height CM  Weight KG  Age\n",
       "0        203         94   21\n",
       "1        213        113   25\n",
       "2        201         99   23\n",
       "3        190         88   29\n",
       "4        206        104   25"
      ]
     },
     "execution_count": 5,
     "metadata": {},
     "output_type": "execute_result"
    }
   ],
   "source": [
    "height_weight_age = nba_player_of_the_week_df[['Height CM','Weight KG','Age']]\n",
    "height_weight_age.head()"
   ]
  },
  {
   "cell_type": "code",
   "execution_count": 7,
   "metadata": {},
   "outputs": [
    {
     "data": {
      "text/plain": [
       "array([[0.51851852, 0.32911392, 0.0952381 ],\n",
       "       [0.7037037 , 0.56962025, 0.28571429],\n",
       "       [0.48148148, 0.39240506, 0.19047619],\n",
       "       ...,\n",
       "       [0.48148148, 0.37974684, 0.23809524],\n",
       "       [0.38888889, 0.21518987, 0.23809524],\n",
       "       [0.42592593, 0.27848101, 0.52380952]])"
      ]
     },
     "execution_count": 7,
     "metadata": {},
     "output_type": "execute_result"
    }
   ],
   "source": [
    "scaler = preprocessing.MinMaxScaler()\n",
    "normalized_data = scaler.fit_transform(height_weight_age)\n",
    "normalized_data"
   ]
  },
  {
   "cell_type": "code",
   "execution_count": 8,
   "metadata": {},
   "outputs": [],
   "source": [
    "normalized_df = pd.DataFrame(normalized_data, columns = ['Height','Weight','Age'])"
   ]
  },
  {
   "cell_type": "code",
   "execution_count": 9,
   "metadata": {},
   "outputs": [
    {
     "data": {
      "text/html": [
       "<div>\n",
       "<style scoped>\n",
       "    .dataframe tbody tr th:only-of-type {\n",
       "        vertical-align: middle;\n",
       "    }\n",
       "\n",
       "    .dataframe tbody tr th {\n",
       "        vertical-align: top;\n",
       "    }\n",
       "\n",
       "    .dataframe thead th {\n",
       "        text-align: right;\n",
       "    }\n",
       "</style>\n",
       "<table border=\"1\" class=\"dataframe\">\n",
       "  <thead>\n",
       "    <tr style=\"text-align: right;\">\n",
       "      <th></th>\n",
       "      <th>Height</th>\n",
       "      <th>Weight</th>\n",
       "      <th>Age</th>\n",
       "    </tr>\n",
       "  </thead>\n",
       "  <tbody>\n",
       "    <tr>\n",
       "      <th>count</th>\n",
       "      <td>1340.000000</td>\n",
       "      <td>1340.000000</td>\n",
       "      <td>1340.000000</td>\n",
       "    </tr>\n",
       "    <tr>\n",
       "      <th>mean</th>\n",
       "      <td>0.482808</td>\n",
       "      <td>0.422586</td>\n",
       "      <td>0.368479</td>\n",
       "    </tr>\n",
       "    <tr>\n",
       "      <th>std</th>\n",
       "      <td>0.173481</td>\n",
       "      <td>0.177357</td>\n",
       "      <td>0.161937</td>\n",
       "    </tr>\n",
       "    <tr>\n",
       "      <th>min</th>\n",
       "      <td>0.000000</td>\n",
       "      <td>0.000000</td>\n",
       "      <td>0.000000</td>\n",
       "    </tr>\n",
       "    <tr>\n",
       "      <th>25%</th>\n",
       "      <td>0.333333</td>\n",
       "      <td>0.316456</td>\n",
       "      <td>0.238095</td>\n",
       "    </tr>\n",
       "    <tr>\n",
       "      <th>50%</th>\n",
       "      <td>0.481481</td>\n",
       "      <td>0.392405</td>\n",
       "      <td>0.333333</td>\n",
       "    </tr>\n",
       "    <tr>\n",
       "      <th>75%</th>\n",
       "      <td>0.611111</td>\n",
       "      <td>0.569620</td>\n",
       "      <td>0.476190</td>\n",
       "    </tr>\n",
       "    <tr>\n",
       "      <th>max</th>\n",
       "      <td>1.000000</td>\n",
       "      <td>1.000000</td>\n",
       "      <td>1.000000</td>\n",
       "    </tr>\n",
       "  </tbody>\n",
       "</table>\n",
       "</div>"
      ],
      "text/plain": [
       "            Height       Weight          Age\n",
       "count  1340.000000  1340.000000  1340.000000\n",
       "mean      0.482808     0.422586     0.368479\n",
       "std       0.173481     0.177357     0.161937\n",
       "min       0.000000     0.000000     0.000000\n",
       "25%       0.333333     0.316456     0.238095\n",
       "50%       0.481481     0.392405     0.333333\n",
       "75%       0.611111     0.569620     0.476190\n",
       "max       1.000000     1.000000     1.000000"
      ]
     },
     "execution_count": 9,
     "metadata": {},
     "output_type": "execute_result"
    }
   ],
   "source": [
    "normalized_df.describe()"
   ]
  },
  {
   "cell_type": "markdown",
   "metadata": {},
   "source": [
    "# 표준화"
   ]
  },
  {
   "cell_type": "code",
   "execution_count": 13,
   "metadata": {},
   "outputs": [],
   "source": [
    "pd.set_option('display.float_format', lambda x: '%.5f' % x)\n",
    "\n",
    "nba_player_of_the_week_df = pd.read_csv('NBA_player_of_the_week.csv')\n",
    "\n",
    "scaler = preprocessing.StandardScaler()\n",
    "standardized_data = scaler.fit_transform(height_weight_age)\n",
    "standardized_df = pd.DataFrame(standardized_data, columns=['Height', 'Weight', 'Age'])"
   ]
  },
  {
   "cell_type": "code",
   "execution_count": 14,
   "metadata": {},
   "outputs": [
    {
     "data": {
      "text/html": [
       "<div>\n",
       "<style scoped>\n",
       "    .dataframe tbody tr th:only-of-type {\n",
       "        vertical-align: middle;\n",
       "    }\n",
       "\n",
       "    .dataframe tbody tr th {\n",
       "        vertical-align: top;\n",
       "    }\n",
       "\n",
       "    .dataframe thead th {\n",
       "        text-align: right;\n",
       "    }\n",
       "</style>\n",
       "<table border=\"1\" class=\"dataframe\">\n",
       "  <thead>\n",
       "    <tr style=\"text-align: right;\">\n",
       "      <th></th>\n",
       "      <th>Height</th>\n",
       "      <th>Weight</th>\n",
       "      <th>Age</th>\n",
       "    </tr>\n",
       "  </thead>\n",
       "  <tbody>\n",
       "    <tr>\n",
       "      <th>count</th>\n",
       "      <td>1340.00000</td>\n",
       "      <td>1340.00000</td>\n",
       "      <td>1340.00000</td>\n",
       "    </tr>\n",
       "    <tr>\n",
       "      <th>mean</th>\n",
       "      <td>-0.00000</td>\n",
       "      <td>-0.00000</td>\n",
       "      <td>-0.00000</td>\n",
       "    </tr>\n",
       "    <tr>\n",
       "      <th>std</th>\n",
       "      <td>1.00037</td>\n",
       "      <td>1.00037</td>\n",
       "      <td>1.00037</td>\n",
       "    </tr>\n",
       "    <tr>\n",
       "      <th>min</th>\n",
       "      <td>-2.78410</td>\n",
       "      <td>-2.38357</td>\n",
       "      <td>-2.27629</td>\n",
       "    </tr>\n",
       "    <tr>\n",
       "      <th>25%</th>\n",
       "      <td>-0.86194</td>\n",
       "      <td>-0.59862</td>\n",
       "      <td>-0.80545</td>\n",
       "    </tr>\n",
       "    <tr>\n",
       "      <th>50%</th>\n",
       "      <td>-0.00765</td>\n",
       "      <td>-0.17024</td>\n",
       "      <td>-0.21711</td>\n",
       "    </tr>\n",
       "    <tr>\n",
       "      <th>75%</th>\n",
       "      <td>0.73986</td>\n",
       "      <td>0.82934</td>\n",
       "      <td>0.66539</td>\n",
       "    </tr>\n",
       "    <tr>\n",
       "      <th>max</th>\n",
       "      <td>2.98237</td>\n",
       "      <td>3.25687</td>\n",
       "      <td>3.90124</td>\n",
       "    </tr>\n",
       "  </tbody>\n",
       "</table>\n",
       "</div>"
      ],
      "text/plain": [
       "          Height     Weight        Age\n",
       "count 1340.00000 1340.00000 1340.00000\n",
       "mean    -0.00000   -0.00000   -0.00000\n",
       "std      1.00037    1.00037    1.00037\n",
       "min     -2.78410   -2.38357   -2.27629\n",
       "25%     -0.86194   -0.59862   -0.80545\n",
       "50%     -0.00765   -0.17024   -0.21711\n",
       "75%      0.73986    0.82934    0.66539\n",
       "max      2.98237    3.25687    3.90124"
      ]
     },
     "execution_count": 14,
     "metadata": {},
     "output_type": "execute_result"
    }
   ],
   "source": [
    "standardized_df.describe()"
   ]
  },
  {
   "cell_type": "markdown",
   "metadata": {},
   "source": [
    "* 평균은 0, 표준편차 1"
   ]
  },
  {
   "cell_type": "markdown",
   "metadata": {},
   "source": [
    "# 실습1"
   ]
  },
  {
   "cell_type": "code",
   "execution_count": 25,
   "metadata": {},
   "outputs": [
    {
     "data": {
      "text/plain": [
       "0    25\n",
       "1    49\n",
       "2    32\n",
       "3    35\n",
       "4    40\n",
       "dtype: int64"
      ]
     },
     "execution_count": 25,
     "metadata": {},
     "output_type": "execute_result"
    }
   ],
   "source": [
    "data =pd.Series([25,49,32,35,40])\n",
    "data"
   ]
  },
  {
   "cell_type": "code",
   "execution_count": 27,
   "metadata": {},
   "outputs": [
    {
     "name": "stdout",
     "output_type": "stream",
     "text": [
      "[0.0, 1.0, 0.2916666666666667, 0.4166666666666667, 0.625]\n"
     ]
    }
   ],
   "source": [
    "norm = []\n",
    "min_max = data.max() - data.min()\n",
    "for i in data:\n",
    "    normalize = (i - data.min())/min_max\n",
    "    norm.append(normalize)\n",
    "print(norm)"
   ]
  },
  {
   "cell_type": "code",
   "execution_count": 28,
   "metadata": {},
   "outputs": [
    {
     "data": {
      "text/plain": [
       "0    2500\n",
       "1    3500\n",
       "2    3000\n",
       "3    5000\n",
       "4    3500\n",
       "dtype: int64"
      ]
     },
     "execution_count": 28,
     "metadata": {},
     "output_type": "execute_result"
    }
   ],
   "source": [
    "data2 =pd.Series([2500,3500,3000,5000,3500])\n",
    "data2"
   ]
  },
  {
   "cell_type": "code",
   "execution_count": 29,
   "metadata": {},
   "outputs": [
    {
     "name": "stdout",
     "output_type": "stream",
     "text": [
      "[0.0, 0.4, 0.2, 1.0, 0.4]\n"
     ]
    }
   ],
   "source": [
    "norm = []\n",
    "min_max = data2.max() - data2.min()\n",
    "for i in data2:\n",
    "    normalize = (i - data2.min())/min_max\n",
    "    norm.append(normalize)\n",
    "print(norm)"
   ]
  },
  {
   "cell_type": "markdown",
   "metadata": {},
   "source": [
    "# 실습2"
   ]
  },
  {
   "cell_type": "code",
   "execution_count": 31,
   "metadata": {},
   "outputs": [],
   "source": [
    "from sklearn import preprocessing\n",
    "import pandas as pd"
   ]
  },
  {
   "cell_type": "code",
   "execution_count": 32,
   "metadata": {},
   "outputs": [
    {
     "data": {
      "text/html": [
       "<div>\n",
       "<style scoped>\n",
       "    .dataframe tbody tr th:only-of-type {\n",
       "        vertical-align: middle;\n",
       "    }\n",
       "\n",
       "    .dataframe tbody tr th {\n",
       "        vertical-align: top;\n",
       "    }\n",
       "\n",
       "    .dataframe thead th {\n",
       "        text-align: right;\n",
       "    }\n",
       "</style>\n",
       "<table border=\"1\" class=\"dataframe\">\n",
       "  <thead>\n",
       "    <tr style=\"text-align: right;\">\n",
       "      <th></th>\n",
       "      <th>Height CM</th>\n",
       "      <th>Weight KG</th>\n",
       "      <th>Age</th>\n",
       "    </tr>\n",
       "  </thead>\n",
       "  <tbody>\n",
       "    <tr>\n",
       "      <th>0</th>\n",
       "      <td>203</td>\n",
       "      <td>94</td>\n",
       "      <td>21</td>\n",
       "    </tr>\n",
       "    <tr>\n",
       "      <th>1</th>\n",
       "      <td>213</td>\n",
       "      <td>113</td>\n",
       "      <td>25</td>\n",
       "    </tr>\n",
       "    <tr>\n",
       "      <th>2</th>\n",
       "      <td>201</td>\n",
       "      <td>99</td>\n",
       "      <td>23</td>\n",
       "    </tr>\n",
       "    <tr>\n",
       "      <th>3</th>\n",
       "      <td>190</td>\n",
       "      <td>88</td>\n",
       "      <td>29</td>\n",
       "    </tr>\n",
       "    <tr>\n",
       "      <th>4</th>\n",
       "      <td>206</td>\n",
       "      <td>104</td>\n",
       "      <td>25</td>\n",
       "    </tr>\n",
       "  </tbody>\n",
       "</table>\n",
       "</div>"
      ],
      "text/plain": [
       "   Height CM  Weight KG  Age\n",
       "0        203         94   21\n",
       "1        213        113   25\n",
       "2        201         99   23\n",
       "3        190         88   29\n",
       "4        206        104   25"
      ]
     },
     "execution_count": 32,
     "metadata": {},
     "output_type": "execute_result"
    }
   ],
   "source": [
    "nba_player_of_the_week_df = pd.read_csv('NBA_player_of_the_week.csv')\n",
    "name = ['Height CM','Weight KG','Age']\n",
    "height_weight_age = nba_player_of_the_week_df[name]\n",
    "height_weight_age.head()"
   ]
  },
  {
   "cell_type": "code",
   "execution_count": null,
   "metadata": {},
   "outputs": [],
   "source": []
  }
 ],
 "metadata": {
  "kernelspec": {
   "display_name": "Python 3",
   "language": "python",
   "name": "python3"
  },
  "language_info": {
   "codemirror_mode": {
    "name": "ipython",
    "version": 3
   },
   "file_extension": ".py",
   "mimetype": "text/x-python",
   "name": "python",
   "nbconvert_exporter": "python",
   "pygments_lexer": "ipython3",
   "version": "3.8.5"
  },
  "toc": {
   "base_numbering": 1,
   "nav_menu": {},
   "number_sections": true,
   "sideBar": true,
   "skip_h1_title": false,
   "title_cell": "Table of Contents",
   "title_sidebar": "Contents",
   "toc_cell": false,
   "toc_position": {},
   "toc_section_display": true,
   "toc_window_display": false
  },
  "varInspector": {
   "cols": {
    "lenName": 16,
    "lenType": 16,
    "lenVar": 40
   },
   "kernels_config": {
    "python": {
     "delete_cmd_postfix": "",
     "delete_cmd_prefix": "del ",
     "library": "var_list.py",
     "varRefreshCmd": "print(var_dic_list())"
    },
    "r": {
     "delete_cmd_postfix": ") ",
     "delete_cmd_prefix": "rm(",
     "library": "var_list.r",
     "varRefreshCmd": "cat(var_dic_list()) "
    }
   },
   "types_to_exclude": [
    "module",
    "function",
    "builtin_function_or_method",
    "instance",
    "_Feature"
   ],
   "window_display": false
  }
 },
 "nbformat": 4,
 "nbformat_minor": 4
}
